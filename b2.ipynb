{
  "nbformat": 4,
  "nbformat_minor": 0,
  "metadata": {
    "colab": {
      "name": "b2.ipynb",
      "provenance": [],
      "collapsed_sections": [],
      "mount_file_id": "1qTv1Yp4xqf7niubBeKvPU5xe_84e4yQi",
      "authorship_tag": "ABX9TyNlA52NpVCN3GlhiA/DkDOD",
      "include_colab_link": true
    },
    "kernelspec": {
      "name": "python3",
      "display_name": "Python 3"
    },
    "accelerator": "GPU",
    "widgets": {
      "application/vnd.jupyter.widget-state+json": {
        "5936aebf36be4498b673f8b69b25e72b": {
          "model_module": "@jupyter-widgets/controls",
          "model_name": "HBoxModel",
          "state": {
            "_view_name": "HBoxView",
            "_dom_classes": [],
            "_model_name": "HBoxModel",
            "_view_module": "@jupyter-widgets/controls",
            "_model_module_version": "1.5.0",
            "_view_count": null,
            "_view_module_version": "1.5.0",
            "box_style": "",
            "layout": "IPY_MODEL_057d6abf41654af8885294b0deef8827",
            "_model_module": "@jupyter-widgets/controls",
            "children": [
              "IPY_MODEL_eb4d8b4f81dd4cd1beffe5fa19256af0",
              "IPY_MODEL_14e8a42e14734c8baab2fc7b202f9511"
            ]
          }
        },
        "057d6abf41654af8885294b0deef8827": {
          "model_module": "@jupyter-widgets/base",
          "model_name": "LayoutModel",
          "state": {
            "_view_name": "LayoutView",
            "grid_template_rows": null,
            "right": null,
            "justify_content": null,
            "_view_module": "@jupyter-widgets/base",
            "overflow": null,
            "_model_module_version": "1.2.0",
            "_view_count": null,
            "flex_flow": null,
            "width": null,
            "min_width": null,
            "border": null,
            "align_items": null,
            "bottom": null,
            "_model_module": "@jupyter-widgets/base",
            "top": null,
            "grid_column": null,
            "overflow_y": null,
            "overflow_x": null,
            "grid_auto_flow": null,
            "grid_area": null,
            "grid_template_columns": null,
            "flex": null,
            "_model_name": "LayoutModel",
            "justify_items": null,
            "grid_row": null,
            "max_height": null,
            "align_content": null,
            "visibility": null,
            "align_self": null,
            "height": null,
            "min_height": null,
            "padding": null,
            "grid_auto_rows": null,
            "grid_gap": null,
            "max_width": null,
            "order": null,
            "_view_module_version": "1.2.0",
            "grid_template_areas": null,
            "object_position": null,
            "object_fit": null,
            "grid_auto_columns": null,
            "margin": null,
            "display": null,
            "left": null
          }
        },
        "eb4d8b4f81dd4cd1beffe5fa19256af0": {
          "model_module": "@jupyter-widgets/controls",
          "model_name": "FloatProgressModel",
          "state": {
            "_view_name": "ProgressView",
            "style": "IPY_MODEL_c1cc9b5988eb4994a3650b3a966cb6f9",
            "_dom_classes": [],
            "description": "Downloading: 100%",
            "_model_name": "FloatProgressModel",
            "bar_style": "success",
            "max": 213450,
            "_view_module": "@jupyter-widgets/controls",
            "_model_module_version": "1.5.0",
            "value": 213450,
            "_view_count": null,
            "_view_module_version": "1.5.0",
            "orientation": "horizontal",
            "min": 0,
            "description_tooltip": null,
            "_model_module": "@jupyter-widgets/controls",
            "layout": "IPY_MODEL_b6b378eb453b4efa843ac2bd651fdf79"
          }
        },
        "14e8a42e14734c8baab2fc7b202f9511": {
          "model_module": "@jupyter-widgets/controls",
          "model_name": "HTMLModel",
          "state": {
            "_view_name": "HTMLView",
            "style": "IPY_MODEL_e0ab0070c88c476484470c0b10bf3dfe",
            "_dom_classes": [],
            "description": "",
            "_model_name": "HTMLModel",
            "placeholder": "​",
            "_view_module": "@jupyter-widgets/controls",
            "_model_module_version": "1.5.0",
            "value": " 213k/213k [00:00&lt;00:00, 2.61MB/s]",
            "_view_count": null,
            "_view_module_version": "1.5.0",
            "description_tooltip": null,
            "_model_module": "@jupyter-widgets/controls",
            "layout": "IPY_MODEL_b883d78fc5274ad48b4becf29d71cfa3"
          }
        },
        "c1cc9b5988eb4994a3650b3a966cb6f9": {
          "model_module": "@jupyter-widgets/controls",
          "model_name": "ProgressStyleModel",
          "state": {
            "_view_name": "StyleView",
            "_model_name": "ProgressStyleModel",
            "description_width": "initial",
            "_view_module": "@jupyter-widgets/base",
            "_model_module_version": "1.5.0",
            "_view_count": null,
            "_view_module_version": "1.2.0",
            "bar_color": null,
            "_model_module": "@jupyter-widgets/controls"
          }
        },
        "b6b378eb453b4efa843ac2bd651fdf79": {
          "model_module": "@jupyter-widgets/base",
          "model_name": "LayoutModel",
          "state": {
            "_view_name": "LayoutView",
            "grid_template_rows": null,
            "right": null,
            "justify_content": null,
            "_view_module": "@jupyter-widgets/base",
            "overflow": null,
            "_model_module_version": "1.2.0",
            "_view_count": null,
            "flex_flow": null,
            "width": null,
            "min_width": null,
            "border": null,
            "align_items": null,
            "bottom": null,
            "_model_module": "@jupyter-widgets/base",
            "top": null,
            "grid_column": null,
            "overflow_y": null,
            "overflow_x": null,
            "grid_auto_flow": null,
            "grid_area": null,
            "grid_template_columns": null,
            "flex": null,
            "_model_name": "LayoutModel",
            "justify_items": null,
            "grid_row": null,
            "max_height": null,
            "align_content": null,
            "visibility": null,
            "align_self": null,
            "height": null,
            "min_height": null,
            "padding": null,
            "grid_auto_rows": null,
            "grid_gap": null,
            "max_width": null,
            "order": null,
            "_view_module_version": "1.2.0",
            "grid_template_areas": null,
            "object_position": null,
            "object_fit": null,
            "grid_auto_columns": null,
            "margin": null,
            "display": null,
            "left": null
          }
        },
        "e0ab0070c88c476484470c0b10bf3dfe": {
          "model_module": "@jupyter-widgets/controls",
          "model_name": "DescriptionStyleModel",
          "state": {
            "_view_name": "StyleView",
            "_model_name": "DescriptionStyleModel",
            "description_width": "",
            "_view_module": "@jupyter-widgets/base",
            "_model_module_version": "1.5.0",
            "_view_count": null,
            "_view_module_version": "1.2.0",
            "_model_module": "@jupyter-widgets/controls"
          }
        },
        "b883d78fc5274ad48b4becf29d71cfa3": {
          "model_module": "@jupyter-widgets/base",
          "model_name": "LayoutModel",
          "state": {
            "_view_name": "LayoutView",
            "grid_template_rows": null,
            "right": null,
            "justify_content": null,
            "_view_module": "@jupyter-widgets/base",
            "overflow": null,
            "_model_module_version": "1.2.0",
            "_view_count": null,
            "flex_flow": null,
            "width": null,
            "min_width": null,
            "border": null,
            "align_items": null,
            "bottom": null,
            "_model_module": "@jupyter-widgets/base",
            "top": null,
            "grid_column": null,
            "overflow_y": null,
            "overflow_x": null,
            "grid_auto_flow": null,
            "grid_area": null,
            "grid_template_columns": null,
            "flex": null,
            "_model_name": "LayoutModel",
            "justify_items": null,
            "grid_row": null,
            "max_height": null,
            "align_content": null,
            "visibility": null,
            "align_self": null,
            "height": null,
            "min_height": null,
            "padding": null,
            "grid_auto_rows": null,
            "grid_gap": null,
            "max_width": null,
            "order": null,
            "_view_module_version": "1.2.0",
            "grid_template_areas": null,
            "object_position": null,
            "object_fit": null,
            "grid_auto_columns": null,
            "margin": null,
            "display": null,
            "left": null
          }
        }
      }
    }
  },
  "cells": [
    {
      "cell_type": "markdown",
      "metadata": {
        "id": "view-in-github",
        "colab_type": "text"
      },
      "source": [
        "<a href=\"https://colab.research.google.com/github/alexanderyanque/hwr/blob/main/b2.ipynb\" target=\"_parent\"><img src=\"https://colab.research.google.com/assets/colab-badge.svg\" alt=\"Open In Colab\"/></a>"
      ]
    },
    {
      "cell_type": "code",
      "metadata": {
        "id": "RJAZBDRBRnPD",
        "colab": {
          "base_uri": "https://localhost:8080/"
        },
        "outputId": "8e8a226e-12a3-4836-fd3b-cea4ecdc8f45"
      },
      "source": [
        "!pip install -U -q PyDrive\n",
        "!pip install -qq transformers"
      ],
      "execution_count": null,
      "outputs": [
        {
          "output_type": "stream",
          "text": [
            "\u001b[K     |████████████████████████████████| 1.5MB 15.8MB/s \n",
            "\u001b[K     |████████████████████████████████| 890kB 51.5MB/s \n",
            "\u001b[K     |████████████████████████████████| 2.9MB 51.0MB/s \n",
            "\u001b[?25h  Building wheel for sacremoses (setup.py) ... \u001b[?25l\u001b[?25hdone\n"
          ],
          "name": "stdout"
        }
      ]
    },
    {
      "cell_type": "code",
      "metadata": {
        "id": "HOiayg4Ch3H7"
      },
      "source": [
        "import transformers\n",
        "from transformers import BertModel, BertTokenizer, AdamW, get_linear_schedule_with_warmup\n",
        "import torch\n",
        "import numpy as np\n",
        "import pandas as pd\n",
        "import seaborn as sns\n",
        "from pylab import rcParams\n",
        "import matplotlib.pyplot as plt\n",
        "from matplotlib import rc\n",
        "from sklearn.model_selection import train_test_split\n",
        "from sklearn.metrics import confusion_matrix, classification_report\n",
        "from collections import defaultdict\n",
        "from textwrap import wrap\n",
        "from torch import nn, optim\n",
        "from torch.utils.data import Dataset, DataLoader\n",
        "\n",
        "\n",
        "device = torch.device(\"cuda\" if torch.cuda.is_available() else \"cpu\")"
      ],
      "execution_count": null,
      "outputs": []
    },
    {
      "cell_type": "code",
      "metadata": {
        "id": "4dAvSGF_TRjl"
      },
      "source": [
        "from pydrive.auth import GoogleAuth\n",
        "from pydrive.drive import GoogleDrive\n",
        "from google.colab import auth\n",
        "from oauth2client.client import GoogleCredentials\n",
        "# Authenticate and create the PyDrive client.\n",
        "auth.authenticate_user()\n",
        "gauth = GoogleAuth()\n",
        "gauth.credentials = GoogleCredentials.get_application_default()\n",
        "drive = GoogleDrive(gauth)\n",
        "\n",
        "id = '1vF3FqgBC1Y-RPefeVmY8zetdZG1jmHzT'\n",
        "downloaded = drive.CreateFile({'id':id}) \n",
        "downloaded.GetContentFile('imdb_train.csv')\n",
        "\n",
        "id = '1XhaV8YMuQeSwozQww8PeyiWMJfia13G6'\n",
        "downloaded = drive.CreateFile({'id':id}) \n",
        "downloaded.GetContentFile('imdb_test.csv')"
      ],
      "execution_count": null,
      "outputs": []
    },
    {
      "cell_type": "code",
      "metadata": {
        "colab": {
          "base_uri": "https://localhost:8080/"
        },
        "id": "EuTJY7E3TT1m",
        "outputId": "75a90328-331a-4219-bc7b-200c4c0b430e"
      },
      "source": [
        "import pandas as pd\n",
        "df_train = pd.read_csv(\"imdb_train.csv\")\n",
        "df_test = pd.read_csv(\"imdb_test.csv\")\n",
        "\n",
        "reviews_train = df_train['review'].tolist()\n",
        "sentiments_train = df_train['sentiment'].tolist()\n",
        "\n",
        "reviews_test = df_test['review'].tolist()\n",
        "sentiments_test = df_test['sentiment'].tolist()\n",
        "\n",
        "\n",
        "cont=0\n",
        "for i in sentiments_test:\n",
        "  if i == 'pos':\n",
        "    cont+=1\n",
        "print(cont)\n",
        "print(type(df_train))\n",
        "print(len(sentiments_train)-cont)\n",
        "print(reviews_test[312])"
      ],
      "execution_count": null,
      "outputs": [
        {
          "output_type": "stream",
          "text": [
            "12500\n",
            "<class 'pandas.core.frame.DataFrame'>\n",
            "12500\n",
            "The working title was: \"Don't Spank Baby\". <br /><br />Wayne Crawford went on to become a successful producer, films like Valley Girl, Night of the Comet and others, even though he wasn't too terrific in this little Gem. And little known Abe Zwick should have gotten tons of work from this film but didn't. Filmed at Moberly Studios in Hollywood Florida, on the same lot the early Tarzan movies were filmed. This film is definitely for those who appreciate the abstract. The movie was originally shot with some nudity and much more graphic slasher scenes. For reasons only known to Tom Casey the Director, the bloody slasher scenes were given a tab of LSD, and the nudity was removed. Even though this version is worthy of a look for those so inclined, in my opinion, the original version would have packed the punch needed to make this a full on Slasher 70's Cult Classic.\n"
          ],
          "name": "stdout"
        }
      ]
    },
    {
      "cell_type": "code",
      "metadata": {
        "colab": {
          "base_uri": "https://localhost:8080/"
        },
        "id": "Ysb4gLN4XN8y",
        "outputId": "3174bae7-e27e-4aea-85c1-a19815ccab03"
      },
      "source": [
        "from sklearn.preprocessing import LabelEncoder\n",
        "import numpy as np\n",
        "\n",
        "labels = np.unique(sentiments_train)\n",
        "\n",
        "lEnc = LabelEncoder()\n",
        "lEnc.fit(labels)\n",
        "label_train_n = lEnc.transform(sentiments_train)\n",
        "label_test_n = lEnc.transform(sentiments_test)\n",
        "numClass = len(labels)\n",
        "\n",
        "\n",
        "print(labels)\n",
        "print(lEnc.transform(labels))\n",
        "print(label_train_n)"
      ],
      "execution_count": null,
      "outputs": [
        {
          "output_type": "stream",
          "text": [
            "['neg' 'pos']\n",
            "[0 1]\n",
            "[1 1 1 ... 0 1 1]\n"
          ],
          "name": "stdout"
        }
      ]
    },
    {
      "cell_type": "code",
      "metadata": {
        "id": "o-3ZSfI1XQOQ"
      },
      "source": [
        "reviews_train = [s.lower() for s in reviews_train]\n",
        "reviews_test = [s.lower() for s in reviews_test]\n",
        "\n",
        "import re\n",
        "#There are some sentences like \"<br /><br />_____________________________________<br /><br />\" which will be replaced by .\n",
        "reviews_train = [re.sub('<br /><br />_+<br /><br />','. ', s) for s in reviews_train]\n",
        "reviews_test = [re.sub('<br /><br />_+<br /><br />','. ', s)  for s in reviews_test]\n",
        "\n",
        "#There are a lot of <br /><br /> which indicate end of line\n",
        "reviews_train = [s.replace(\"<br /><br />\",\". \") for s in reviews_train]\n",
        "reviews_test = [s.replace(\"<br /><br />\",\". \") for s in reviews_test]"
      ],
      "execution_count": null,
      "outputs": []
    },
    {
      "cell_type": "code",
      "metadata": {
        "id": "ccs6V1PVYrV0"
      },
      "source": [
        "import re\n",
        "\n",
        "#Removing Hyperlinks starting with http, https and satisfying other requirements\n",
        "reviews_train = [re.sub('http[s]?://(?:[a-zA-Z]|[0-9]|[$-_@.&+#]|[!*\\(\\),]|(?:%[0-9a-fA-F][0-9a-fA-F]))+','', s) for s in reviews_train]\n",
        "reviews_test = [re.sub('http[s]?://(?:[a-zA-Z]|[0-9]|[$-_@.&+#]|[!*\\(\\),]|(?:%[0-9a-fA-F][0-9a-fA-F]))+','', s) for s in reviews_test]\n",
        "\n",
        "#Removing Hyperlinks starting with www and satisfying other requirements\n",
        "reviews_train = [re.sub('www.(?:[a-zA-Z]|[0-9]|[$-_@.&+#]|[!*\\(\\),]|(?:%[0-9a-fA-F][0-9a-fA-F]))+','', s) for s in reviews_train]\n",
        "reviews_test = [re.sub('www.(?:[a-zA-Z]|[0-9]|[$-_@.&+#]|[!*\\(\\),]|(?:%[0-9a-fA-F][0-9a-fA-F]))+','', s) for s in reviews_test]\n",
        "\n",
        "\n",
        "#Removing one specific url - ScheduleServlet?ACTION_DETAIL=DETAIL&FOCUS_ID=598947\n",
        "reviews_train = [s.replace(\"scheduleservlet?action_detail=detail&focus_id=598947\",\"\") for s in reviews_train]\n",
        "reviews_test = [s.replace(\"scheduleservlet?action_detail=detail&focus_id=598947\",\"\") for s in reviews_test]"
      ],
      "execution_count": null,
      "outputs": []
    },
    {
      "cell_type": "code",
      "metadata": {
        "colab": {
          "base_uri": "https://localhost:8080/",
          "height": 477,
          "referenced_widgets": [
            "5936aebf36be4498b673f8b69b25e72b",
            "057d6abf41654af8885294b0deef8827",
            "eb4d8b4f81dd4cd1beffe5fa19256af0",
            "14e8a42e14734c8baab2fc7b202f9511",
            "c1cc9b5988eb4994a3650b3a966cb6f9",
            "b6b378eb453b4efa843ac2bd651fdf79",
            "e0ab0070c88c476484470c0b10bf3dfe",
            "b883d78fc5274ad48b4becf29d71cfa3"
          ]
        },
        "id": "yUsaEyQqYs3s",
        "outputId": "b8652c23-6de3-4bdf-8335-193b58223b68"
      },
      "source": [
        "PRE_TRAINED_MODEL_NAME = 'bert-base-cased'\n",
        "tokenizer = BertTokenizer.from_pretrained(PRE_TRAINED_MODEL_NAME)\n",
        "sample_txt = 'When was I last outside? I am stuck at home for 2 weeks.'\n",
        "\n",
        "\n",
        "tokens = tokenizer.tokenize(reviews_test[1])\n",
        "id_tokens = tokenizer.convert_tokens_to_ids(tokens)\n",
        "encoded = tokenizer.encode_plus(\n",
        "    sample_txt,\n",
        "    max_length = 200,\n",
        "    add_special_tokens = True,\n",
        "    # padding = 'do_not_pad',\n",
        "    padding='max_length',\n",
        "    return_token_type_ids = False,\n",
        "    return_attention_mask = True,\n",
        "    return_tensors='pt',\n",
        "    truncation = True\n",
        "\n",
        ")\n",
        "\n",
        "\n",
        "print(len(reviews_test[1]))\n",
        "print(len(tokens))\n",
        "print(tokens)\n",
        "print(id_tokens)\n",
        "print(tokenizer.convert_ids_to_tokens(encoded['input_ids'][0]))\n",
        "print(encoded['input_ids'][0].shape)\n",
        "print(encoded['input_ids'][0])\n",
        "# print(encoded['attention_mask'])"
      ],
      "execution_count": null,
      "outputs": [
        {
          "output_type": "display_data",
          "data": {
            "application/vnd.jupyter.widget-view+json": {
              "model_id": "5936aebf36be4498b673f8b69b25e72b",
              "version_minor": 0,
              "version_major": 2
            },
            "text/plain": [
              "HBox(children=(FloatProgress(value=0.0, description='Downloading', max=213450.0, style=ProgressStyle(descripti…"
            ]
          },
          "metadata": {
            "tags": []
          }
        },
        {
          "output_type": "stream",
          "text": [
            "\n",
            "2003\n",
            "469\n",
            "['i', \"'\", 've', 'never', 'understood', 'this', 'type', 'of', 's', '##po', '##of', 'movies', '.', 'you', 'get', 'some', 'serious', '/', 'semi', '-', 'serious', 'movie', 'that', 'everyone', 'knows', 'about', 'and', 'takes', 'the', 'serious', '##ness', 'out', 'of', 'it', 'through', 'im', '##mat', '##ure', 'far', '##t', '-', 'jokes', 'and', 'such', '.', 'we', \"'\", 've', 'seen', 'it', 'many', ',', 'many', 'times', ',', 'and', 'it', \"'\", 's', 'never', 'really', 'been', 'funny', '.', 'it', \"'\", 's', 'just', 'an', 'easy', 'way', 'to', 'laugh', 'at', 'something', 'you', 'don', \"'\", 't', 'understand', ',', 'in', 'my', 'opinion', '.', 'this', 'seems', 'to', 'be', 'one', 'of', 'the', 'more', 'obscure', 'and', 'less', 'liked', 'of', 'the', 'genre', ',', 'though', 'i', 'honestly', 'don', \"'\", 't', 'see', 'anything', 'in', 'this', 'that', 'is', 'much', 'worse', 'than', 'that', 'of', 'spy', 'hard', 'or', 'hot', 'shots', '.', 'this', 'movie', ',', 'as', 'is', 'clearly', 'understood', 'simply', 'from', 'the', 'title', ',', 'concentrate', '##s', 'on', 'making', 'child', '##ish', 'fun', 'of', 'pulp', 'fiction', '.', 'that', \"'\", 's', 'the', 'main', 'reason', 'i', 'decided', 'to', 'watch', 'it', ',', 'as', 'i', 'found', 'that', 'film', 'to', 'be', 'overly', 'in', '##du', '##lge', '##nt', 'of', 'ta', '##rant', '##ino', \"'\", 's', 'sick', 'mind', 'and', 'powerful', '##ly', 'over', '##rated', '.', 'i', 'had', 'hoped', 'for', 'one', 'or', 'two', 'good', 'jokes', ',', 'making', 'fun', 'of', 'the', 'overly', 'violent', 'and', 'pointless', 'type', 'of', 'movie', 'that', 'pulp', 'fiction', 'was', 'in', 'every', 'aspect', ',', 'in', 'my', '(', 'anything', 'but', ')', 'humble', 'opinion', '.', 'i', 'was', 'sore', '##ly', 'disappointed', '.', 'the', 'plot', 'is', 'pretty', 'much', 'a', 'rip', '-', 'off', 'of', 'ta', '##rant', '##ino', \"'\", 's', 'film', ',', 'with', 'a', 'few', 'scenes', 's', '##po', '##of', '##ing', 'other', ',', 'often', 'better', ',', 'films', ',', 'in', 'the', 'same', 'child', '##ish', 'and', 'humor', '##less', 'fashion', '.', 'the', 'pacing', 'is', 'poor', ',', 'and', 'often', 'you', \"'\", 'll', 'sit', 'there', ',', 'being', 'able', 'to', 'guess', 'the', 'outcome', 'of', 'every', 'scene', ',', 'predict', '##ing', 'every', 'joke', ',', 'often', 'thinking', 'of', 'a', 'better', 'one', 'at', 'the', 'spot', ',', 'bored', 'out', 'of', 'your', 'mind', '.', 'the', 'acting', 'is', 'bad', '.', 'the', 'characters', 'are', 'c', '##lich', '##és', 'and', 'stereotypes', ',', 'and', 'are', 'intentionally', 'paper', '-', 'thin', 'in', 'order', 'to', 'make', 'fun', 'of', 'the', 'characters', 'they', \"'\", 're', 'based', 'on', '.', '.', '.', 'problem', 'is', ',', 'it', 'doesn', \"'\", 't', 'work', '.', 'it', 'just', 'makes', 'the', 'movie', 'that', 'much', 'harder', 'to', 'sit', 'through', '.', 'the', 'humor', 'is', 'juvenile', 'and', 'lame', '.', 'the', 'only', 'positive', 'thing', 'i', 'can', 'say', 'about', 'this', 'film', 'is', 'that', 'they', 'managed', 'to', 'find', 'some', 'actors', 'that', 'looked', 'like', 'the', 'people', 'they', 'were', 'supposed', 'to', 'look', 'like', '.', 'the', 'film', 'is', 'an', 'awful', 'waste', 'of', 'the', 'actual', 'real', 'actors', 'involved', '.', 'possibly', 'slightly', 'entertaining', 'to', 'fans', 'of', 'the', 'typical', 's', '##po', '##of', 'movies', 'of', 'the', 'same', 'kind', '.', 'i', 'recommend', 'this', 'only', 'to', 'people', 'who', 'truly', 'lo', '##athed', 'pulp', 'fiction', ',', 'or', 'fans', 'of', 'the', 'zu', '##cker', 'parody', 'films', '.', 'everyone', 'else', ':', 'avoid', '.', '1', '/', '10']\n",
            "[178, 112, 1396, 1309, 4628, 1142, 2076, 1104, 188, 5674, 10008, 5558, 119, 1128, 1243, 1199, 3021, 120, 3533, 118, 3021, 2523, 1115, 2490, 3520, 1164, 1105, 2274, 1103, 3021, 1757, 1149, 1104, 1122, 1194, 13280, 21943, 3313, 1677, 1204, 118, 13948, 1105, 1216, 119, 1195, 112, 1396, 1562, 1122, 1242, 117, 1242, 1551, 117, 1105, 1122, 112, 188, 1309, 1541, 1151, 6276, 119, 1122, 112, 188, 1198, 1126, 3123, 1236, 1106, 4046, 1120, 1380, 1128, 1274, 112, 189, 2437, 117, 1107, 1139, 4893, 119, 1142, 3093, 1106, 1129, 1141, 1104, 1103, 1167, 15574, 1105, 1750, 3851, 1104, 1103, 6453, 117, 1463, 178, 12051, 1274, 112, 189, 1267, 1625, 1107, 1142, 1115, 1110, 1277, 4146, 1190, 1115, 1104, 10669, 1662, 1137, 2633, 6981, 119, 1142, 2523, 117, 1112, 1110, 3817, 4628, 2566, 1121, 1103, 1641, 117, 10191, 1116, 1113, 1543, 2027, 2944, 4106, 1104, 20467, 4211, 119, 1115, 112, 188, 1103, 1514, 2255, 178, 1879, 1106, 2824, 1122, 117, 1112, 178, 1276, 1115, 1273, 1106, 1129, 16201, 1107, 7641, 21463, 2227, 1104, 27629, 6922, 4559, 112, 188, 4809, 1713, 1105, 3110, 1193, 1166, 5894, 119, 178, 1125, 4320, 1111, 1141, 1137, 1160, 1363, 13948, 117, 1543, 4106, 1104, 1103, 16201, 5973, 1105, 27092, 2076, 1104, 2523, 1115, 20467, 4211, 1108, 1107, 1451, 7631, 117, 1107, 1139, 113, 1625, 1133, 114, 20086, 4893, 119, 178, 1108, 15939, 1193, 9333, 119, 1103, 4928, 1110, 2785, 1277, 170, 13579, 118, 1228, 1104, 27629, 6922, 4559, 112, 188, 1273, 117, 1114, 170, 1374, 4429, 188, 5674, 10008, 1158, 1168, 117, 1510, 1618, 117, 2441, 117, 1107, 1103, 1269, 2027, 2944, 1105, 8594, 2008, 4633, 119, 1103, 17218, 1110, 2869, 117, 1105, 1510, 1128, 112, 1325, 3465, 1175, 117, 1217, 1682, 1106, 3319, 1103, 9386, 1104, 1451, 2741, 117, 17163, 1158, 1451, 8155, 117, 1510, 2422, 1104, 170, 1618, 1141, 1120, 1103, 3205, 117, 11920, 1149, 1104, 1240, 1713, 119, 1103, 3176, 1110, 2213, 119, 1103, 2650, 1132, 172, 16879, 10051, 1105, 26478, 117, 1105, 1132, 16841, 2526, 118, 4240, 1107, 1546, 1106, 1294, 4106, 1104, 1103, 2650, 1152, 112, 1231, 1359, 1113, 119, 119, 119, 2463, 1110, 117, 1122, 2144, 112, 189, 1250, 119, 1122, 1198, 2228, 1103, 2523, 1115, 1277, 5747, 1106, 3465, 1194, 119, 1103, 8594, 1110, 15031, 1105, 25492, 119, 1103, 1178, 3112, 1645, 178, 1169, 1474, 1164, 1142, 1273, 1110, 1115, 1152, 2374, 1106, 1525, 1199, 5681, 1115, 1350, 1176, 1103, 1234, 1152, 1127, 3155, 1106, 1440, 1176, 119, 1103, 1273, 1110, 1126, 9684, 5671, 1104, 1103, 4315, 1842, 5681, 2017, 119, 3566, 2776, 15021, 1106, 3899, 1104, 1103, 4701, 188, 5674, 10008, 5558, 1104, 1103, 1269, 1912, 119, 178, 18029, 1142, 1178, 1106, 1234, 1150, 5098, 25338, 21549, 20467, 4211, 117, 1137, 3899, 1104, 1103, 21458, 8638, 13129, 2441, 119, 2490, 1950, 131, 3644, 119, 122, 120, 1275]\n",
            "['[CLS]', 'When', 'was', 'I', 'last', 'outside', '?', 'I', 'am', 'stuck', 'at', 'home', 'for', '2', 'weeks', '.', '[SEP]', '[PAD]', '[PAD]', '[PAD]', '[PAD]', '[PAD]', '[PAD]', '[PAD]', '[PAD]', '[PAD]', '[PAD]', '[PAD]', '[PAD]', '[PAD]', '[PAD]', '[PAD]', '[PAD]', '[PAD]', '[PAD]', '[PAD]', '[PAD]', '[PAD]', '[PAD]', '[PAD]', '[PAD]', '[PAD]', '[PAD]', '[PAD]', '[PAD]', '[PAD]', '[PAD]', '[PAD]', '[PAD]', '[PAD]', '[PAD]', '[PAD]', '[PAD]', '[PAD]', '[PAD]', '[PAD]', '[PAD]', '[PAD]', '[PAD]', '[PAD]', '[PAD]', '[PAD]', '[PAD]', '[PAD]', '[PAD]', '[PAD]', '[PAD]', '[PAD]', '[PAD]', '[PAD]', '[PAD]', '[PAD]', '[PAD]', '[PAD]', '[PAD]', '[PAD]', '[PAD]', '[PAD]', '[PAD]', '[PAD]', '[PAD]', '[PAD]', '[PAD]', '[PAD]', '[PAD]', '[PAD]', '[PAD]', '[PAD]', '[PAD]', '[PAD]', '[PAD]', '[PAD]', '[PAD]', '[PAD]', '[PAD]', '[PAD]', '[PAD]', '[PAD]', '[PAD]', '[PAD]', '[PAD]', '[PAD]', '[PAD]', '[PAD]', '[PAD]', '[PAD]', '[PAD]', '[PAD]', '[PAD]', '[PAD]', '[PAD]', '[PAD]', '[PAD]', '[PAD]', '[PAD]', '[PAD]', '[PAD]', '[PAD]', '[PAD]', '[PAD]', '[PAD]', '[PAD]', '[PAD]', '[PAD]', '[PAD]', '[PAD]', '[PAD]', '[PAD]', '[PAD]', '[PAD]', '[PAD]', '[PAD]', '[PAD]', '[PAD]', '[PAD]', '[PAD]', '[PAD]', '[PAD]', '[PAD]', '[PAD]', '[PAD]', '[PAD]', '[PAD]', '[PAD]', '[PAD]', '[PAD]', '[PAD]', '[PAD]', '[PAD]', '[PAD]', '[PAD]', '[PAD]', '[PAD]', '[PAD]', '[PAD]', '[PAD]', '[PAD]', '[PAD]', '[PAD]', '[PAD]', '[PAD]', '[PAD]', '[PAD]', '[PAD]', '[PAD]', '[PAD]', '[PAD]', '[PAD]', '[PAD]', '[PAD]', '[PAD]', '[PAD]', '[PAD]', '[PAD]', '[PAD]', '[PAD]', '[PAD]', '[PAD]', '[PAD]', '[PAD]', '[PAD]', '[PAD]', '[PAD]', '[PAD]', '[PAD]', '[PAD]', '[PAD]', '[PAD]', '[PAD]', '[PAD]', '[PAD]', '[PAD]', '[PAD]', '[PAD]', '[PAD]', '[PAD]', '[PAD]', '[PAD]', '[PAD]', '[PAD]']\n",
            "torch.Size([200])\n",
            "tensor([ 101, 1332, 1108,  146, 1314, 1796,  136,  146, 1821, 5342, 1120, 1313,\n",
            "        1111,  123, 2277,  119,  102,    0,    0,    0,    0,    0,    0,    0,\n",
            "           0,    0,    0,    0,    0,    0,    0,    0,    0,    0,    0,    0,\n",
            "           0,    0,    0,    0,    0,    0,    0,    0,    0,    0,    0,    0,\n",
            "           0,    0,    0,    0,    0,    0,    0,    0,    0,    0,    0,    0,\n",
            "           0,    0,    0,    0,    0,    0,    0,    0,    0,    0,    0,    0,\n",
            "           0,    0,    0,    0,    0,    0,    0,    0,    0,    0,    0,    0,\n",
            "           0,    0,    0,    0,    0,    0,    0,    0,    0,    0,    0,    0,\n",
            "           0,    0,    0,    0,    0,    0,    0,    0,    0,    0,    0,    0,\n",
            "           0,    0,    0,    0,    0,    0,    0,    0,    0,    0,    0,    0,\n",
            "           0,    0,    0,    0,    0,    0,    0,    0,    0,    0,    0,    0,\n",
            "           0,    0,    0,    0,    0,    0,    0,    0,    0,    0,    0,    0,\n",
            "           0,    0,    0,    0,    0,    0,    0,    0,    0,    0,    0,    0,\n",
            "           0,    0,    0,    0,    0,    0,    0,    0,    0,    0,    0,    0,\n",
            "           0,    0,    0,    0,    0,    0,    0,    0,    0,    0,    0,    0,\n",
            "           0,    0,    0,    0,    0,    0,    0,    0,    0,    0,    0,    0,\n",
            "           0,    0,    0,    0,    0,    0,    0,    0])\n"
          ],
          "name": "stdout"
        }
      ]
    },
    {
      "cell_type": "code",
      "metadata": {
        "id": "bZyCpniJGRub"
      },
      "source": [
        "MAX_LEN = 250\n",
        "\n",
        "def get_token(x):\n",
        "  encoded = tokenizer.encode_plus(\n",
        "    x,\n",
        "    max_length = MAX_LEN,\n",
        "    add_special_tokens = True,\n",
        "    # padding = 'do_not_pad',\n",
        "    padding='max_length',\n",
        "    return_token_type_ids = False,\n",
        "    return_attention_mask = True,\n",
        "    return_tensors='pt',\n",
        "    truncation = True\n",
        "  )\n",
        "  return encoded['input_ids'],encoded['attention_mask'][0]\n",
        "\n",
        "# x,y = get_token(reviews_train[230])\n",
        "# print(x,y)\n",
        "# print(x.shape,y.shape)"
      ],
      "execution_count": null,
      "outputs": []
    },
    {
      "cell_type": "code",
      "metadata": {
        "id": "qTSb8dGf8u9R"
      },
      "source": [
        "def batcher(BATCH_SIZE,rep,lim):\n",
        "  temp1=[]\n",
        "  temp2=[]\n",
        "  temp3=[]\n",
        "  pos=(rep*BATCH_SIZE) % lim\n",
        "  xd=pos\n",
        "  # print(pos)\n",
        "  cont=0\n",
        "  for i in range(BATCH_SIZE):\n",
        "    x,y = get_token(reviews_train[pos])\n",
        "    z=label_train_n[pos]\n",
        "    temp3.append(z)\n",
        "    cont=cont+1\n",
        "    temp1.append(x)\n",
        "    temp2.append(y)\n",
        "    pos=pos+1\n",
        "    if pos==lim:\n",
        "      pos=0\n",
        "  # print(xd,pos-1,cont)\n",
        "  temp1=torch.stack(temp1).squeeze(dim=1).to(device)\n",
        "  temp2=torch.stack(temp2).to(device)\n",
        "  temp3=torch.Tensor(temp3).type(torch.LongTensor).to(device)\n",
        "  return temp1,temp2,temp3\n",
        "# batcher(16,0,100)\n",
        "# batcher(16,1,100)\n",
        "# batcher(16,2,100)\n",
        "# batcher(16,3,100)\n",
        "# batcher(16,4,100)\n",
        "# batcher(16,5,100)\n",
        "# batcher(16,6,100)\n",
        "# batcher(16,7,100)\n",
        "# xd1,xd2,xd3 = batcher(16,8,100)\n",
        "# # xd1=xd1.squeeze(dim=1)\n",
        "# print(xd1[0])\n",
        "# print(xd2[0])\n",
        "# print(xd3)\n",
        "# print(xd1[1])\n",
        "# print(xd2[1])\n",
        "# print(xd3)"
      ],
      "execution_count": null,
      "outputs": []
    },
    {
      "cell_type": "code",
      "metadata": {
        "id": "vGv0ujwSQf3b"
      },
      "source": [
        "PRE_TRAINED_MODEL_NAME = 'bert-base-cased'\n",
        "class modelo(nn.Module):\n",
        "  def __init__(self,num_classes):\n",
        "    super(modelo,self).__init__()\n",
        "    self.bert = BertModel.from_pretrained(PRE_TRAINED_MODEL_NAME)\n",
        "    self.drop = nn.Dropout(p=0.1)\n",
        "    self.lstm = nn.LSTM(self.bert.config.hidden_size,200,num_layers=2,batch_first=True,dropout=0.2)\n",
        "    self.linear2 = nn.Linear(200, num_classes)\n",
        "  def forward(self,x,y):\n",
        "    _,out = self.bert(input_ids=x,attention_mask=y,return_dict=False)\n",
        "    out = self.drop(out)\n",
        "\n",
        "    out = out.reshape(out.shape[0],1,out.shape[1])\n",
        "    out,_ = self.lstm(out)\n",
        "    out = self.linear2(out[:,-1,:])\n",
        "    #out = self.linear2(out)\n",
        "    return out"
      ],
      "execution_count": null,
      "outputs": []
    },
    {
      "cell_type": "code",
      "metadata": {
        "id": "jKl7ohl_1Gby"
      },
      "source": [
        "mo = modelo(num_classes=2).to(device)\n",
        "# x,y = bac(reviews_test[23])\n",
        "# x,y,z = batcher(BATCH_SIZE=BATCH_SIZE,rep=0,lim=500)\n",
        "# print(x,y)\n",
        "\n",
        "# print(x.shape,y.shape)\n",
        "# f = mo(x,y)\n",
        "# _,pred = torch.max(f,dim=1)"
      ],
      "execution_count": null,
      "outputs": []
    },
    {
      "cell_type": "code",
      "metadata": {
        "id": "owja5rlYOepT"
      },
      "source": [
        "EPOCHS = 7779 #\n",
        "optimizer = AdamW(mo.parameters(), lr=2e-5, correct_bias=False)\n",
        "BATCH_SIZE= 18 # 12\n",
        "total_steps = BATCH_SIZE * EPOCHS\n",
        "scheduler = transformers.get_cosine_with_hard_restarts_schedule_with_warmup(\n",
        "  optimizer,\n",
        "  num_warmup_steps=0, #probar total_steps*0.05\n",
        "  num_training_steps=EPOCHS\n",
        ")\n",
        "loss_fn = nn.CrossEntropyLoss().to(device)"
      ],
      "execution_count": null,
      "outputs": []
    },
    {
      "cell_type": "code",
      "metadata": {
        "colab": {
          "base_uri": "https://localhost:8080/"
        },
        "id": "qNeGu0sNe6sn",
        "outputId": "4ad03bf6-18aa-4b93-8efb-28feed510d00"
      },
      "source": [
        "print(len(reviews_test))"
      ],
      "execution_count": null,
      "outputs": [
        {
          "output_type": "stream",
          "text": [
            "25000\n"
          ],
          "name": "stdout"
        }
      ]
    },
    {
      "cell_type": "code",
      "metadata": {
        "colab": {
          "base_uri": "https://localhost:8080/"
        },
        "id": "hZ7vsd0wCDiB",
        "outputId": "3461d34f-e7c5-4029-b3cb-faa9501ac798"
      },
      "source": [
        "cont=0\n",
        "for i in range(EPOCHS):\n",
        "  mo = mo.train()\n",
        "  ids,att,tgt = batcher(BATCH_SIZE,cont,25000)\n",
        "  cont=cont+1\n",
        "  output = mo(ids,att)\n",
        " \n",
        "  _,pred = torch.max(output,dim=1)\n",
        "  output = output.squeeze(0)\n",
        "  loss = loss_fn(output, tgt)\n",
        "  correct_predictions = torch.sum(pred == tgt)\n",
        "\n",
        "  loss.backward()\n",
        "  nn.utils.clip_grad_norm_(mo.parameters(),max_norm=3.0)\n",
        "  optimizer.step()\n",
        "  scheduler.step()\n",
        "  optimizer.zero_grad()\n",
        "  if ((i+1)%100)==0:\n",
        "    print(i+1,loss.item(),correct_predictions)\n",
        "  if ((i+1)%1111)==0:\n",
        "    root = 'drive/MyDrive/bert/bert_lstm_4_'\n",
        "    root = root +  str(i) + '.pt'\n",
        "    torch.save(mo.state_dict(), root)\n",
        "    print(\"guardado \" ,root)"
      ],
      "execution_count": null,
      "outputs": [
        {
          "output_type": "stream",
          "text": [
            "100 0.6918357610702515 tensor(11, device='cuda:0')\n",
            "200 0.6674270033836365 tensor(14, device='cuda:0')\n",
            "300 0.6933199167251587 tensor(9, device='cuda:0')\n",
            "400 0.6876574754714966 tensor(11, device='cuda:0')\n",
            "500 0.5363621711730957 tensor(14, device='cuda:0')\n",
            "600 0.870762825012207 tensor(9, device='cuda:0')\n",
            "700 0.5245136022567749 tensor(14, device='cuda:0')\n",
            "800 0.525917649269104 tensor(14, device='cuda:0')\n",
            "900 0.6101739406585693 tensor(12, device='cuda:0')\n",
            "1000 0.5325813889503479 tensor(14, device='cuda:0')\n",
            "1100 0.6285430192947388 tensor(13, device='cuda:0')\n",
            "guardado  drive/MyDrive/bert/bert_lstm_4_1110.pt\n",
            "1200 0.7077535390853882 tensor(12, device='cuda:0')\n",
            "1300 0.4185747802257538 tensor(16, device='cuda:0')\n",
            "1400 0.33881819248199463 tensor(17, device='cuda:0')\n",
            "1500 0.3913429081439972 tensor(15, device='cuda:0')\n",
            "1600 0.38981541991233826 tensor(16, device='cuda:0')\n",
            "1700 0.4667481780052185 tensor(14, device='cuda:0')\n",
            "1800 0.4406341314315796 tensor(15, device='cuda:0')\n",
            "1900 0.27939537167549133 tensor(17, device='cuda:0')\n",
            "2000 0.41250377893447876 tensor(15, device='cuda:0')\n",
            "2100 0.35384610295295715 tensor(15, device='cuda:0')\n",
            "2200 0.5218941569328308 tensor(14, device='cuda:0')\n",
            "guardado  drive/MyDrive/bert/bert_lstm_4_2221.pt\n",
            "2300 0.47077813744544983 tensor(13, device='cuda:0')\n",
            "2400 0.4295104742050171 tensor(16, device='cuda:0')\n",
            "2500 0.4770892560482025 tensor(14, device='cuda:0')\n",
            "2600 0.5250617861747742 tensor(14, device='cuda:0')\n",
            "2700 0.2825186550617218 tensor(16, device='cuda:0')\n",
            "2800 0.3869590759277344 tensor(14, device='cuda:0')\n",
            "2900 0.2724897265434265 tensor(17, device='cuda:0')\n",
            "3000 0.4789864122867584 tensor(15, device='cuda:0')\n",
            "3100 0.25990501046180725 tensor(17, device='cuda:0')\n",
            "3200 0.33890554308891296 tensor(16, device='cuda:0')\n",
            "3300 0.44089147448539734 tensor(14, device='cuda:0')\n",
            "guardado  drive/MyDrive/bert/bert_lstm_4_3332.pt\n",
            "3400 0.48183903098106384 tensor(14, device='cuda:0')\n",
            "3500 0.44220373034477234 tensor(15, device='cuda:0')\n",
            "3600 0.39137908816337585 tensor(16, device='cuda:0')\n",
            "3700 0.4420115351676941 tensor(15, device='cuda:0')\n",
            "3800 0.3007964491844177 tensor(17, device='cuda:0')\n",
            "3900 0.3293783962726593 tensor(16, device='cuda:0')\n",
            "4000 0.2538507878780365 tensor(17, device='cuda:0')\n",
            "4100 0.2495911866426468 tensor(17, device='cuda:0')\n",
            "4200 0.26101142168045044 tensor(17, device='cuda:0')\n",
            "4300 0.49104875326156616 tensor(16, device='cuda:0')\n",
            "4400 0.18525446951389313 tensor(17, device='cuda:0')\n",
            "guardado  drive/MyDrive/bert/bert_lstm_4_4443.pt\n",
            "4500 0.542860746383667 tensor(13, device='cuda:0')\n",
            "4600 0.39575308561325073 tensor(15, device='cuda:0')\n",
            "4700 0.4617207944393158 tensor(14, device='cuda:0')\n",
            "4800 0.33135128021240234 tensor(15, device='cuda:0')\n",
            "4900 0.3766096532344818 tensor(16, device='cuda:0')\n",
            "5000 0.35423481464385986 tensor(15, device='cuda:0')\n",
            "5100 0.5572936534881592 tensor(14, device='cuda:0')\n",
            "5200 0.55703204870224 tensor(13, device='cuda:0')\n",
            "5300 0.2943018972873688 tensor(16, device='cuda:0')\n",
            "5400 0.7521024346351624 tensor(12, device='cuda:0')\n",
            "5500 0.3208858370780945 tensor(17, device='cuda:0')\n",
            "guardado  drive/MyDrive/bert/bert_lstm_4_5554.pt\n",
            "5600 0.38652148842811584 tensor(14, device='cuda:0')\n",
            "5700 0.22714193165302277 tensor(16, device='cuda:0')\n",
            "5800 0.2273140698671341 tensor(16, device='cuda:0')\n",
            "5900 0.21403785049915314 tensor(17, device='cuda:0')\n",
            "6000 0.39710670709609985 tensor(15, device='cuda:0')\n",
            "6100 0.23408667743206024 tensor(17, device='cuda:0')\n",
            "6200 0.09627494215965271 tensor(18, device='cuda:0')\n",
            "6300 0.543330729007721 tensor(13, device='cuda:0')\n",
            "6400 0.2821081280708313 tensor(16, device='cuda:0')\n",
            "6500 0.23211616277694702 tensor(17, device='cuda:0')\n",
            "6600 0.2249768078327179 tensor(17, device='cuda:0')\n",
            "guardado  drive/MyDrive/bert/bert_lstm_4_6665.pt\n",
            "6700 0.27654707431793213 tensor(16, device='cuda:0')\n",
            "6800 0.3545607328414917 tensor(15, device='cuda:0')\n",
            "6900 0.2553013563156128 tensor(17, device='cuda:0')\n",
            "7000 0.382381796836853 tensor(15, device='cuda:0')\n",
            "7100 0.22106443345546722 tensor(17, device='cuda:0')\n",
            "7200 0.12458539009094238 tensor(18, device='cuda:0')\n",
            "7300 0.24020150303840637 tensor(16, device='cuda:0')\n",
            "7400 0.15743109583854675 tensor(17, device='cuda:0')\n",
            "7500 0.20983260869979858 tensor(17, device='cuda:0')\n",
            "7600 0.10972166806459427 tensor(18, device='cuda:0')\n",
            "7700 0.23952317237854004 tensor(17, device='cuda:0')\n",
            "guardado  drive/MyDrive/bert/bert_lstm_4_7776.pt\n"
          ],
          "name": "stdout"
        }
      ]
    },
    {
      "cell_type": "code",
      "metadata": {
        "colab": {
          "base_uri": "https://localhost:8080/"
        },
        "id": "aCd2VsssPQ8K",
        "outputId": "e0ad6eb8-32a3-4bba-acd3-5a82d5e89bea"
      },
      "source": [
        "for i in range(15000):\r\n",
        "  if ((i+1)%5000)==0:\r\n",
        "    root = 'drive/MyDrive/bert/bert_lstm'\r\n",
        "    root = root +  str(i) + '.pt'\r\n",
        "    print(root)"
      ],
      "execution_count": null,
      "outputs": [
        {
          "output_type": "stream",
          "text": [
            "drive/MyDrive/bert/bert_lstm4999.pt\n",
            "drive/MyDrive/bert/bert_lstm9999.pt\n",
            "drive/MyDrive/bert/bert_lstm14999.pt\n"
          ],
          "name": "stdout"
        }
      ]
    },
    {
      "cell_type": "code",
      "metadata": {
        "id": "02-0AmRLpQlj"
      },
      "source": [
        "# mo = mo.eval()\n",
        "\n",
        "# ids,att,tgt = batcher(BATCH_SIZE,5,len(reviews_train))\n",
        "  \n",
        "# output = mo(ids,att)\n",
        "# _,pred = torch.max(output,dim=1)\n",
        "\n",
        "# print(reviews_train[0])\n",
        "# print(label_train_n[0])\n",
        "# print(output)\n",
        "# print(pred)\n",
        "# print(tgt)\n",
        "\n",
        "\n",
        "# for i in range(20):\n",
        "#   print(pred[i],tgt[i])"
      ],
      "execution_count": null,
      "outputs": []
    },
    {
      "cell_type": "code",
      "metadata": {
        "id": "0PamCmPFI1mp"
      },
      "source": [
        "def batcher2(BATCH_SIZE,rep,lim):\n",
        "  temp1=[]\n",
        "  temp2=[]\n",
        "  temp3=[]\n",
        "  pos=(rep*BATCH_SIZE) % lim\n",
        "  xd=pos\n",
        "  # print(pos)\n",
        "  cont=0\n",
        "  for i in range(BATCH_SIZE):\n",
        "    x,y = get_token(reviews_test[pos])\n",
        "    z=label_test_n[pos]\n",
        "    temp3.append(z)\n",
        "    cont=cont+1\n",
        "    temp1.append(x)\n",
        "    temp2.append(y)\n",
        "    pos=pos+1\n",
        "    if pos==lim:\n",
        "      pos=0\n",
        "  # print(xd,pos-1,cont)\n",
        "  temp1=torch.stack(temp1).squeeze(dim=1).to(device)\n",
        "  temp2=torch.stack(temp2).to(device)\n",
        "  temp3=torch.Tensor(temp3).type(torch.LongTensor).to(device)\n",
        "  return temp1,temp2,temp3"
      ],
      "execution_count": null,
      "outputs": []
    },
    {
      "cell_type": "code",
      "metadata": {
        "id": "XXas_nxOJuYi"
      },
      "source": [
        "#torch.save(mo.state_dict(), 'drive/MyDrive/bert/bert_lstm14000.pt')\n",
        "\n",
        "model = modelo(2)\n",
        "model.load_state_dict(torch.load('drive/MyDrive/bert/bert_lstm4999.pt'))# obtuvo 91\n",
        "#model.load_state_dict(torch.load('drive/MyDrive/bert/bert_lstm_4_7776.pt'))\n",
        "model = model.to(device)"
      ],
      "execution_count": null,
      "outputs": []
    },
    {
      "cell_type": "code",
      "metadata": {
        "id": "KVCcvYMWRMTw"
      },
      "source": [
        ""
      ],
      "execution_count": null,
      "outputs": []
    },
    {
      "cell_type": "code",
      "metadata": {
        "id": "JpZIVEOdHKVV",
        "colab": {
          "base_uri": "https://localhost:8080/"
        },
        "outputId": "b14e29cf-50d1-410b-8293-a6c351c4fc8d"
      },
      "source": [
        "if True:\n",
        "  tam=0\n",
        "  cont=0\n",
        "  tt=0\n",
        "  model=model.eval()\n",
        "  model=model.to(device)\n",
        "  y_true = []\n",
        "  y_pred = []\n",
        "  for i in range(1250):\n",
        "    ids,att,tgt = batcher2(20,i,25000)\n",
        "    cont=cont+1\n",
        "    output = model(ids,att)\n",
        "    _,pred = torch.max(output,dim=1)\n",
        "    output = output.squeeze(0)\n",
        "    tam=tam+(tgt.shape[0])\n",
        "    y_true.append(tgt)\n",
        "    y_pred.append(pred)\n",
        "  #  correct_predictions = torch.sum(pred == tgt)\n",
        "    # print(correct_predictions)\n",
        "  # tt=tt+correct_predictions.item()\n",
        "  #print(f'{tt}/{tam}')\n",
        "  print((y_true[0].shape))\n",
        "  y_tt = torch.stack(y_true)\n",
        "  y_ttt = y_tt.flatten(0)\n",
        "  y_pp = torch.stack(y_pred)\n",
        "  y_ppp = y_pp.flatten(0)\n",
        "  print((y_ttt.shape))\n",
        "  print((y_ppp.shape))\n",
        "  from sklearn.metrics import classification_report\n",
        "  y_ttt = y_ttt.to(\"cpu\")\n",
        "  y_ppp = y_ppp.to(\"cpu\")\n",
        "  print(classification_report(y_ttt,y_ppp,target_names=['positives','negatives']))"
      ],
      "execution_count": null,
      "outputs": [
        {
          "output_type": "stream",
          "text": [
            "torch.Size([20])\n",
            "torch.Size([25000])\n",
            "torch.Size([25000])\n",
            "              precision    recall  f1-score   support\n",
            "\n",
            "   positives       0.91      0.91      0.91     12500\n",
            "   negatives       0.91      0.91      0.91     12500\n",
            "\n",
            "    accuracy                           0.91     25000\n",
            "   macro avg       0.91      0.91      0.91     25000\n",
            "weighted avg       0.91      0.91      0.91     25000\n",
            "\n"
          ],
          "name": "stdout"
        }
      ]
    },
    {
      "cell_type": "code",
      "metadata": {
        "id": "nJUr4ocIUUQE"
      },
      "source": [
        ""
      ],
      "execution_count": null,
      "outputs": []
    },
    {
      "cell_type": "code",
      "metadata": {
        "id": "5h8ftlKnRgZh"
      },
      "source": [
        ""
      ],
      "execution_count": null,
      "outputs": []
    }
  ]
}